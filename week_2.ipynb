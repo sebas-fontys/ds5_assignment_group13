{
 "cells": [
  {
   "cell_type": "markdown",
   "metadata": {},
   "source": [
    "# Exercise 1: Structuring a given code"
   ]
  },
  {
   "cell_type": "markdown",
   "metadata": {},
   "source": [
    "### Original"
   ]
  },
  {
   "cell_type": "code",
   "execution_count": 1,
   "metadata": {},
   "outputs": [],
   "source": [
    "file_path = input(\"Enter the path to the CSV file: \")\n",
    "records = []\n",
    "with open(file_path, 'r') as file:\n",
    "    csv_reader = csv.DictReader(file)\n",
    "    for row in csv_reader:\n",
    "        records.append(row)\n",
    "\n",
    "total = sum(float(record['Grade']) for record in records)\n",
    "average = total / len(records)\n",
    "\n",
    "print(f\"Average Grade: {average}\")\n",
    "print(\"--------------------\")\n",
    "\n",
    "filtered_records = [record for record in records if float(record['Grade']) >= 80.0]\n",
    "\n",
    "print(\"Student Report\")\n",
    "print(\"--------------\")\n",
    "for record in filtered_records:\n",
    "    print(f\"Name: {record['Name']}\")\n",
    "    print(f\"Grade: {record['Grade']}\")\n",
    "    print(\"--------------------\")"
   ]
  },
  {
   "cell_type": "markdown",
   "metadata": {},
   "source": [
    "### Structured"
   ]
  },
  {
   "cell_type": "markdown",
   "metadata": {},
   "source": [
    "##### Functions"
   ]
  },
  {
   "cell_type": "code",
   "execution_count": null,
   "metadata": {},
   "outputs": [],
   "source": [
    "def get_records(path_to_csv: str) -> list[dict[str, str]]:\n",
    "    \"\"\"Returns a list of records based on a given path to a CSV.\n",
    "    \n",
    "    Arguments:\n",
    "        path_to_csv (str): The path (relative to the CWD) to a CSV file containting the records.\n",
    "    Returns:\n",
    "        list: The records read from the afformentioned file.\n",
    "    \"\"\"\n",
    "    \n",
    "    records = []\n",
    "    \n",
    "    # Read each line of the CSV\n",
    "    with open(file_path, 'r') as file:\n",
    "        csv_reader = csv.DictReader(file)\n",
    "        for row in csv_reader:\n",
    "            records.append(row)\n",
    "            \n",
    "    # Return records\n",
    "    return records"
   ]
  },
  {
   "cell_type": "code",
   "execution_count": null,
   "metadata": {},
   "outputs": [],
   "source": [
    "def get_average_grade(records: list[str]) -> float:\n",
    "    \"\"\"Return the average grade for a given list of student records.\n",
    "\n",
    "    Args:\n",
    "        records (list): The list of student records.\n",
    "\n",
    "    Returns:\n",
    "        float: The average grade.\n",
    "    \"\"\"\n",
    "    \n",
    "    # Convert grade to float for each records and calculate the average.\n",
    "    return sum(float(record['Grade']) for record in records) / len(records)"
   ]
  },
  {
   "cell_type": "code",
   "execution_count": null,
   "metadata": {},
   "outputs": [],
   "source": [
    "def print_underlined(string: str) -> None:\n",
    "    \"\"\"Prints a string followed by dashed on the next line.\n",
    "\n",
    "    Args:\n",
    "        string (str): The String to print underlined.\n",
    "    \"\"\"\n",
    "\n",
    "    # Determine max line length\n",
    "    lines = string.split('\\n')\n",
    "    max_line_len = max([len(line) for line in lines])\n",
    "\n",
    "    # Print with underline\n",
    "    print(string)\n",
    "    print(\"-\" * len(max_line_len))"
   ]
  },
  {
   "cell_type": "code",
   "execution_count": null,
   "metadata": {},
   "outputs": [],
   "source": [
    "# Get records based on a user-entered path to a CSV file.\n",
    "records = get_records(input(\"Enter the path to the CSV file: \"))\n",
    "\n",
    "# Calculate and print the average grade.\n",
    "print_underlined(get_average_grade(records))\n",
    "\n",
    "# Print student reports where the grade is 8 or higher\n",
    "min_grade = 8\n",
    "print_underlined(\"-- Student Reports --\")\n",
    "for record in records:\n",
    "    grade = record['Grade']\n",
    "    if float(grade) >= min_grade:\n",
    "        print_underlined(f\"Name: {record['Name']}\\nGrade: {record['Grade']}\")"
   ]
  },
  {
   "cell_type": "markdown",
   "metadata": {},
   "source": [
    "# Exercise 2: Mandelbrot visualisation"
   ]
  },
  {
   "cell_type": "code",
   "execution_count": null,
   "metadata": {},
   "outputs": [],
   "source": []
  },
  {
   "cell_type": "markdown",
   "metadata": {},
   "source": [
    "# Exercise 3: Google PageRank algorithm and the worldwide web"
   ]
  },
  {
   "cell_type": "code",
   "execution_count": 1,
   "metadata": {},
   "outputs": [],
   "source": [
    "import networkx as nx "
   ]
  },
  {
   "cell_type": "code",
   "execution_count": null,
   "metadata": {},
   "outputs": [],
   "source": []
  }
 ],
 "metadata": {
  "kernelspec": {
   "display_name": "base",
   "language": "python",
   "name": "python3"
  },
  "language_info": {
   "codemirror_mode": {
    "name": "ipython",
    "version": 3
   },
   "file_extension": ".py",
   "mimetype": "text/x-python",
   "name": "python",
   "nbconvert_exporter": "python",
   "pygments_lexer": "ipython3",
   "version": "3.11.5"
  }
 },
 "nbformat": 4,
 "nbformat_minor": 2
}
